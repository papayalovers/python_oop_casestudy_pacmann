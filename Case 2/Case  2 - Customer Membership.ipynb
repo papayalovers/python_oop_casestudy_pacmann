{
 "cells": [
  {
   "cell_type": "markdown",
   "metadata": {},
   "source": [
    "# Case II : Customer Membership\n",
    "Pertemuan 13 - 14 Python - Sekolah Data - Pacmann Academy"
   ]
  },
  {
   "cell_type": "markdown",
   "metadata": {},
   "source": [
    "#### Membership Table \n",
    "\n",
    "| **Membership** | **Discount** |                     **Another Benefit**                     |\n",
    "|:--------------:|:------------:|:-----------------------------------------------------------:|\n",
    "|    Platinum    |      15%     | Benefit Silver + Gold + Voucher Liburan + Cashback max. 30% |\n",
    "|      Gold      |      10%     | Benefit Silver + Voucher Ojek Online                        |\n",
    "|     Silver     |      8%      | Voucher Makanan                                             |"
   ]
  },
  {
   "cell_type": "markdown",
   "metadata": {},
   "source": [
    "#### Requirements Membership Table \n",
    "\n",
    "| **Membership** | **Monthly Expense (juta)** | **Monthly Income (juta)** |\n",
    "|:--------------:|:--------------------------:|:-------------------------:|\n",
    "|    Platinum    |              8             | 15                        |\n",
    "|      Gold      |              6             | 10                        |\n",
    "|     Silver     |              5             | 7                         |"
   ]
  },
  {
   "cell_type": "markdown",
   "metadata": {},
   "source": [
    "### Features List\n",
    "- [ ] `show_benefit()` --> show all membership benefit (table 1)\n",
    "- [ ] `show_requirements()` --> show all requirements untuk menjadi membership (table 2)\n",
    "- [ ] `predict_membership(monthly_expense, monthly_income)` --> memprediksi user akan masuk ke dalam membership mana berdasarkan input parameter dan parameter masing - masing membership\n",
    "- [ ] `calculate_price(membership, list_harga_barang)` --> menghitung final price yang harus dibayarkan, terus akan mendapatkan diskon sesuai dengan ketentuan membership"
   ]
  },
  {
   "cell_type": "code",
   "execution_count": 1,
   "metadata": {},
   "outputs": [],
   "source": [
    "from src.utils import Membership"
   ]
  },
  {
   "cell_type": "code",
   "execution_count": 2,
   "metadata": {},
   "outputs": [
    {
     "name": "stdout",
     "output_type": "stream",
     "text": [
      "{'Name': 'Zara', 'Age': 7, 'Class': 'First'}\n",
      "1\n",
      "{'Name': 'Zara', 'Phone': '123-456-7890', 'Age': 7, 'Class': 'First'}\n"
     ]
    }
   ],
   "source": [
    "mydict = {'Name': 'Zara', 'Age': 7, 'Class': 'First'}\n",
    "print(mydict)\n",
    "# {'Name': 'Zara', 'Age': 7, 'Class': 'First'}\n",
    "\n",
    "pos = list(mydict.keys()).index('Age')\n",
    "print(pos)\n",
    "items = list(mydict.items())\n",
    "items.insert(pos, ('Phone', '123-456-7890'))\n",
    "mydict = dict(items)\n",
    "\n",
    "print(mydict)\n",
    "# {'Name': 'Zara', 'Phone': '123-456-7890', 'Age': 7, 'Class': 'First'}"
   ]
  },
  {
   "cell_type": "code",
   "execution_count": 3,
   "metadata": {},
   "outputs": [],
   "source": [
    "# inisialisasi membership\n",
    "membership = Membership(username='Shandy')"
   ]
  },
  {
   "cell_type": "code",
   "execution_count": 4,
   "metadata": {},
   "outputs": [
    {
     "name": "stdout",
     "output_type": "stream",
     "text": [
      "                              Membership benefit for each tier                             \n",
      "-------------------------------------------------------------------------------------------\n",
      "|  Membership  |  Discount  |                       Another Benefit                       |\n",
      "|--------------|------------|-------------------------------------------------------------|\n",
      "|   Platinum   |    15%     | Benefit Silver + Gold + Voucher Liburan + Cashback max. 30% |\n",
      "|     Gold     |    10%     |            Benefit Silver + Voucher Ojek Online             |\n",
      "|    Silver    |     8%     |                       Voucher Makanan                       |\n"
     ]
    }
   ],
   "source": [
    "# menampilkan membership benefits\n",
    "membership.show_benefit()"
   ]
  },
  {
   "cell_type": "code",
   "execution_count": 5,
   "metadata": {},
   "outputs": [
    {
     "name": "stdout",
     "output_type": "stream",
     "text": [
      "                     Requirements for Membership                     \n",
      "---------------------------------------------------------------------\n",
      "|  Membership  |   Monthly Expense (juta) |   Monthly Income (juta) |\n",
      "|--------------|--------------------------|-------------------------|\n",
      "|   Platinum   |                        8 |                      15 |\n",
      "|     Gold     |                        6 |                      10 |\n",
      "|    Silver    |                        5 |                       7 |\n"
     ]
    }
   ],
   "source": [
    "membership.show_requirements()"
   ]
  },
  {
   "cell_type": "code",
   "execution_count": 6,
   "metadata": {},
   "outputs": [
    {
     "name": "stdout",
     "output_type": "stream",
     "text": [
      "Hasil perhitungan dari Username Shandy dengan jarak Euclidean adalah {'Platinum': 3.16, 'Gold': 3.61, 'Silver': 6.4}\n",
      "\n",
      "Membership registered with: Platinum\n"
     ]
    }
   ],
   "source": [
    "membership.predict_membership(9, 12)"
   ]
  },
  {
   "cell_type": "code",
   "execution_count": 7,
   "metadata": {},
   "outputs": [
    {
     "data": {
      "text/plain": [
       "{'Name': ['Sumbul', 'Ana', 'Cahya', 'Shandy'],\n",
       " 'Membership': ['Platinum', 'Gold', 'Platinum', 'Platinum']}"
      ]
     },
     "execution_count": 7,
     "metadata": {},
     "output_type": "execute_result"
    }
   ],
   "source": [
    "membership.data_member"
   ]
  },
  {
   "cell_type": "code",
   "execution_count": 8,
   "metadata": {},
   "outputs": [
    {
     "name": "stdout",
     "output_type": "stream",
     "text": [
      "Final Price: Rp.637,500.0\n"
     ]
    }
   ],
   "source": [
    "membership.calculate_price('Platinum', [150_000, 200_000, 400_000])"
   ]
  },
  {
   "cell_type": "code",
   "execution_count": null,
   "metadata": {},
   "outputs": [],
   "source": []
  }
 ],
 "metadata": {
  "kernelspec": {
   "display_name": "Python 3",
   "language": "python",
   "name": "python3"
  },
  "language_info": {
   "codemirror_mode": {
    "name": "ipython",
    "version": 3
   },
   "file_extension": ".py",
   "mimetype": "text/x-python",
   "name": "python",
   "nbconvert_exporter": "python",
   "pygments_lexer": "ipython3",
   "version": "3.10.12"
  }
 },
 "nbformat": 4,
 "nbformat_minor": 2
}
